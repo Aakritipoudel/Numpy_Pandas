{
  "nbformat": 4,
  "nbformat_minor": 0,
  "metadata": {
    "colab": {
      "name": "Numpy.ipynb",
      "provenance": [],
      "collapsed_sections": []
    },
    "kernelspec": {
      "name": "python3",
      "display_name": "Python 3"
    },
    "language_info": {
      "name": "python"
    }
  },
  "cells": [
    {
      "cell_type": "code",
      "metadata": {
        "colab": {
          "base_uri": "https://localhost:8080/"
        },
        "id": "tWoGuFVn46tU",
        "outputId": "743a29c2-b305-4fd3-9ff8-c0acc70a9155"
      },
      "source": [
        "import numpy as np\n",
        "a = np.random.randint(2,10, (3,4))\n",
        "b = np.random.randint(2,10, (4,3))\n",
        "print(a)\n",
        "print(b)"
      ],
      "execution_count": 1,
      "outputs": [
        {
          "output_type": "stream",
          "name": "stdout",
          "text": [
            "[[7 7 8 8]\n",
            " [6 9 9 5]\n",
            " [3 8 7 8]]\n",
            "[[5 3 7]\n",
            " [8 7 9]\n",
            " [6 9 2]\n",
            " [4 3 6]]\n"
          ]
        }
      ]
    },
    {
      "cell_type": "code",
      "metadata": {
        "colab": {
          "base_uri": "https://localhost:8080/"
        },
        "id": "U5Jn_RTI5zdG",
        "outputId": "cab69347-683e-4dee-8b2c-0c0a0c0620d5"
      },
      "source": [
        "a.dot(b)\n"
      ],
      "execution_count": 2,
      "outputs": [
        {
          "output_type": "execute_result",
          "data": {
            "text/plain": [
              "array([[171, 166, 176],\n",
              "       [176, 177, 171],\n",
              "       [153, 152, 155]])"
            ]
          },
          "metadata": {},
          "execution_count": 2
        }
      ]
    }
  ]
}